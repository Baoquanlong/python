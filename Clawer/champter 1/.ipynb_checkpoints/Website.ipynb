{
 "cells": [
  {
   "cell_type": "code",
   "execution_count": 50,
   "metadata": {},
   "outputs": [],
   "source": [
    "import requests\n",
    "from bs4 import BeautifulSoup,Tag\n",
    "import re\n",
    "import time\n"
   ]
  },
  {
   "cell_type": "code",
   "execution_count": 51,
   "metadata": {},
   "outputs": [],
   "source": [
    "class Content:\n",
    "    def __init__(self,url,title,body) -> None:\n",
    "        self.url = url\n",
    "        self.title = title\n",
    "        self.body = body\n",
    "    def print(self):\n",
    "        print(\"url: \"+self.url)\n",
    "        print(\"title: \"+self.title)\n",
    "        print(\"body: \"+ self.body)\n"
   ]
  },
  {
   "cell_type": "code",
   "execution_count": 52,
   "metadata": {},
   "outputs": [],
   "source": [
    "class Website:\n",
    "    '''\n",
    "    描述网站的信息\n",
    "    '''\n",
    "    def __init__(self,name:str,url:str,titleTag:str,bodyTag:str) -> None:\n",
    "        self.name = name\n",
    "        self.url = url\n",
    "        self.titleTag = titleTag\n",
    "        self.bodyTag = bodyTag\n",
    "\n",
    "    "
   ]
  },
  {
   "cell_type": "code",
   "execution_count": 53,
   "metadata": {},
   "outputs": [],
   "source": [
    "class Crwaler:\n",
    "    def getPage(self,url):\n",
    "        try:\n",
    "            req = requests.get(url)\n",
    "        except requests.exceptions.RequestException:\n",
    "            return ''\n",
    "        return BeautifulSoup(req.text,'html.parser')\n",
    "\n",
    "    def saveGet(self,sourceObj:BeautifulSoup,targetTag:str):\n",
    "        \"\"\"\n",
    "        用于从一个Beatuifulsoup对象和一个选择器获取内容的函数，如果\n",
    "        选择器没有选择到内容，则返还空字符串\n",
    "        \"\"\"\n",
    "        res = sourceObj.select(targetTag)\n",
    "        if(res is not None and len(res) != 0):\n",
    "            return '\\n'.join([ress.get_text().strip() for ress in res ])\n",
    "        return ''\n",
    "\n",
    "    def parser(self,site:Website,url):\n",
    "        \"\"\"\n",
    "        从指定url中提取内容\n",
    "        \"\"\"\n",
    "        bs = self.getPage(url)\n",
    "        if(bs is not None):\n",
    "            title = self.saveGet(bs,site.titleTag)\n",
    "            body = self.saveGet(bs,site.bodyTag)\n",
    "        if title != '' or body != '':\n",
    "            Ct = Content(url,title,body)\n",
    "            Ct.print()\n"
   ]
  },
  {
   "cell_type": "markdown",
   "metadata": {},
   "source": [
    "# 以下代码定义了网站对象，并开启了流程"
   ]
  },
  {
   "cell_type": "code",
   "execution_count": 54,
   "metadata": {},
   "outputs": [
    {
     "name": "stdout",
     "output_type": "stream",
     "text": [
      "url: http://shop.oreilly.com/product/0636920028154.do\n",
      "title: Learning Python, 5th Edition\n",
      "body: Get Learning Python, 5th Edition now with O’Reilly online learning.\n",
      "O’Reilly members experience live online training, plus books, videos, and digital content from 200+ publishers.\n",
      "Explore a preview version of Learning Python, 5th Edition right now.\n",
      "O’Reilly members get unlimited access to live online training experiences, plus books, videos, and digital content from 200+ publishers.\n",
      "Get a comprehensive, in-depth introduction to the core Python language with this hands-on book. Based on author Mark Lutz’s popular training course, this updated fifth edition will help you quickly write efficient, high-quality code with Python. It’s an ideal way to begin, whether you’re new to programming or a professional developer versed in other languages.\n",
      "Complete with quizzes, exercises, and helpful illustrations,  this easy-to-follow, self-paced tutorial gets you started with both Python 2.7 and 3.3— the latest releases in the 3.X  and 2.X lines—plus all other releases in common use today. You’ll also learn some advanced language features that recently have become more common in Python code.\n",
      "View/Submit Errata\n",
      "Download Example Code\n",
      "book\n",
      "by\n",
      "            \n",
      "              Aurélien Géron\n",
      "Through a series of recent breakthroughs, deep learning has boosted the entire field of machine learning. …\n",
      "book\n",
      "by\n",
      "            \n",
      "              Bill Chambers,\n",
      "            \n",
      "              Matei Zaharia\n",
      "Learn how to use, deploy, and maintain Apache Spark with this comprehensive guide, written by the …\n",
      "video\n",
      "by\n",
      "            \n",
      "              Jessica McKellar\n",
      "Intrigued by Python? Learn how to get started with this popular language, whether you’re new to …\n",
      "book\n",
      "by\n",
      "            \n",
      "              Marko Lukša\n",
      "Kubernetes in Action teaches you to use Kubernetes to deploy container-based distributed applications. You'll start with …\n",
      "Take O’Reilly with you and learn anywhere, anytime on your phone and tablet.\n",
      "View all O’Reilly videos, Superstream events, and Meet the Expert sessions on your home TV.\n",
      "© 2021, O’Reilly Media, Inc. All trademarks and registered trademarks appearing on oreilly.com are the property of their respective owners.\n",
      "We are a participant in the Amazon Services LLC Associates Program, an affiliate advertising program designed to provide a means for us to earn fees by linking to Amazon.com and affiliated sites.\n",
      "Terms of service • Privacy policy • Editorial independence\n"
     ]
    }
   ],
   "source": [
    "Crwaler = Crwaler()\n",
    "Website = Website(r\"O'Reilly Media\",r\"http://oreilly.com\",r\"h1\",r\"p\")\n",
    "Crwaler.parser(Website,r\"http://shop.oreilly.com/product/0636920028154.do\")"
   ]
  },
  {
   "cell_type": "code",
   "execution_count": null,
   "metadata": {},
   "outputs": [],
   "source": []
  }
 ],
 "metadata": {
  "interpreter": {
   "hash": "9d219cb47f6fb9bbdd3e766c5a7aee3ccc32e32fe553935a9bf1cf743391b47c"
  },
  "kernelspec": {
   "display_name": "Python 3.8.12 64-bit ('clawer': conda)",
   "name": "python3"
  },
  "language_info": {
   "codemirror_mode": {
    "name": "ipython",
    "version": 3
   },
   "file_extension": ".py",
   "mimetype": "text/x-python",
   "name": "python",
   "nbconvert_exporter": "python",
   "pygments_lexer": "ipython3",
   "version": "3.8.12"
  },
  "orig_nbformat": 4
 },
 "nbformat": 4,
 "nbformat_minor": 2
}
