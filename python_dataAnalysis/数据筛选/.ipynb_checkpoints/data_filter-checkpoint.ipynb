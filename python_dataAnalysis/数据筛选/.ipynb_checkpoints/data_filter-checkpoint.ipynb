{
 "cells": [
  {
   "cell_type": "markdown",
   "id": "c4c44e72",
   "metadata": {},
   "source": [
    "pandas中，选取特定行、列有两种方式：一种是操作符“[]”访问方式，称为Indexing Operator；另一种是通过.loc和.iloc方式，即Indexer（索引器）来选择特定行、列。"
   ]
  },
  {
   "cell_type": "markdown",
   "id": "876fbec7",
   "metadata": {},
   "source": [
    "# 4.1 使用.loc和.iloc筛选行和列数据\n",
    "    series和Dataframe具有极大的灵活性。.loc函数支持通过索引标签（Index Label）的方式访问数据，而.iloc函数支持通过整数索引的方式访问数据。"
   ]
  },
  {
   "cell_type": "code",
   "execution_count": 1,
   "id": "9bf6ad18",
   "metadata": {},
   "outputs": [],
   "source": [
    "import pandas as pd"
   ]
  },
  {
   "cell_type": "code",
   "execution_count": 2,
   "id": "7469c750",
   "metadata": {},
   "outputs": [],
   "source": [
    "# 设置最大显示行列数\n",
    "pd.set_option('display.max_rows',10)\n",
    "pd.set_option('display.max_columns',10)\n"
   ]
  },
  {
   "cell_type": "code",
   "execution_count": 3,
   "id": "4b88bd3f",
   "metadata": {},
   "outputs": [],
   "source": [
    "# 数据原目录\n",
    "data_source = r\"Y:\\BaiduNetdiskWorkspace\\data_analysis\\Python数据分析\\data\""
   ]
  },
  {
   "cell_type": "code",
   "execution_count": 4,
   "id": "1610e4a1",
   "metadata": {},
   "outputs": [],
   "source": [
    "# 导入数据\n",
    "data = pd.read_csv(data_source+\"\\\\Online_Retail_Fake.csv\")"
   ]
  },
  {
   "cell_type": "code",
   "execution_count": 5,
   "id": "e70f45e5",
   "metadata": {},
   "outputs": [],
   "source": [
    "data['UnitPrice'].fillna(data['UnitPrice'].mean(),inplace=True)"
   ]
  },
  {
   "cell_type": "code",
   "execution_count": 6,
   "id": "e84ec3bb",
   "metadata": {},
   "outputs": [
    {
     "data": {
      "text/plain": [
       "0"
      ]
     },
     "execution_count": 6,
     "metadata": {},
     "output_type": "execute_result"
    }
   ],
   "source": [
    "data['UnitPrice'].isnull().sum()"
   ]
  },
  {
   "cell_type": "code",
   "execution_count": 7,
   "id": "d86bdabd",
   "metadata": {},
   "outputs": [
    {
     "data": {
      "text/html": [
       "<div>\n",
       "<style scoped>\n",
       "    .dataframe tbody tr th:only-of-type {\n",
       "        vertical-align: middle;\n",
       "    }\n",
       "\n",
       "    .dataframe tbody tr th {\n",
       "        vertical-align: top;\n",
       "    }\n",
       "\n",
       "    .dataframe thead th {\n",
       "        text-align: right;\n",
       "    }\n",
       "</style>\n",
       "<table border=\"1\" class=\"dataframe\">\n",
       "  <thead>\n",
       "    <tr style=\"text-align: right;\">\n",
       "      <th></th>\n",
       "      <th>InvoiceNo</th>\n",
       "      <th>StockCode</th>\n",
       "      <th>Description</th>\n",
       "      <th>Quantity</th>\n",
       "      <th>InvoiceDate</th>\n",
       "      <th>UnitPrice</th>\n",
       "      <th>CustomerID</th>\n",
       "      <th>Country</th>\n",
       "    </tr>\n",
       "  </thead>\n",
       "  <tbody>\n",
       "    <tr>\n",
       "      <th>0</th>\n",
       "      <td>536365</td>\n",
       "      <td>85123A</td>\n",
       "      <td>WHITE HANGING HEART T-LIGHT HOLDER</td>\n",
       "      <td>6</td>\n",
       "      <td>2010/12/1 8:26</td>\n",
       "      <td>2.550000</td>\n",
       "      <td>17850.0</td>\n",
       "      <td>United Kingdom</td>\n",
       "    </tr>\n",
       "    <tr>\n",
       "      <th>1</th>\n",
       "      <td>536365</td>\n",
       "      <td>71053</td>\n",
       "      <td>WHITE METAL LANTERN</td>\n",
       "      <td>6</td>\n",
       "      <td>2010/12/1 8:26</td>\n",
       "      <td>4.611117</td>\n",
       "      <td>17850.0</td>\n",
       "      <td>United Kingdom</td>\n",
       "    </tr>\n",
       "    <tr>\n",
       "      <th>2</th>\n",
       "      <td>536365</td>\n",
       "      <td>84406B</td>\n",
       "      <td>NaN</td>\n",
       "      <td>8</td>\n",
       "      <td>2010/12/1 8:26</td>\n",
       "      <td>2.750000</td>\n",
       "      <td>17850.0</td>\n",
       "      <td>United Kingdom</td>\n",
       "    </tr>\n",
       "    <tr>\n",
       "      <th>3</th>\n",
       "      <td>536365</td>\n",
       "      <td>84029G</td>\n",
       "      <td>KNITTED UNION FLAG HOT WATER BOTTLE</td>\n",
       "      <td>6</td>\n",
       "      <td>2010/12/1 8:26</td>\n",
       "      <td>3.390000</td>\n",
       "      <td>17850.0</td>\n",
       "      <td>United Kingdom</td>\n",
       "    </tr>\n",
       "    <tr>\n",
       "      <th>4</th>\n",
       "      <td>536365</td>\n",
       "      <td>84029E</td>\n",
       "      <td>RED WOOLLY HOTTIE WHITE HEART.</td>\n",
       "      <td>6</td>\n",
       "      <td>2010/12/1 8:26</td>\n",
       "      <td>3.390000</td>\n",
       "      <td>17850.0</td>\n",
       "      <td>United Kingdom</td>\n",
       "    </tr>\n",
       "  </tbody>\n",
       "</table>\n",
       "</div>"
      ],
      "text/plain": [
       "  InvoiceNo StockCode                          Description  Quantity  \\\n",
       "0    536365    85123A   WHITE HANGING HEART T-LIGHT HOLDER         6   \n",
       "1    536365     71053                  WHITE METAL LANTERN         6   \n",
       "2    536365    84406B                                  NaN         8   \n",
       "3    536365    84029G  KNITTED UNION FLAG HOT WATER BOTTLE         6   \n",
       "4    536365    84029E       RED WOOLLY HOTTIE WHITE HEART.         6   \n",
       "\n",
       "      InvoiceDate  UnitPrice  CustomerID         Country  \n",
       "0  2010/12/1 8:26   2.550000     17850.0  United Kingdom  \n",
       "1  2010/12/1 8:26   4.611117     17850.0  United Kingdom  \n",
       "2  2010/12/1 8:26   2.750000     17850.0  United Kingdom  \n",
       "3  2010/12/1 8:26   3.390000     17850.0  United Kingdom  \n",
       "4  2010/12/1 8:26   3.390000     17850.0  United Kingdom  "
      ]
     },
     "execution_count": 7,
     "metadata": {},
     "output_type": "execute_result"
    }
   ],
   "source": [
    "data.head()"
   ]
  },
  {
   "cell_type": "code",
   "execution_count": 8,
   "id": "a29e7b70",
   "metadata": {},
   "outputs": [],
   "source": [
    "data['Total_Price'] = data['Quantity']*data['UnitPrice']"
   ]
  },
  {
   "cell_type": "code",
   "execution_count": 9,
   "id": "e3a4e659",
   "metadata": {},
   "outputs": [
    {
     "data": {
      "text/html": [
       "<div>\n",
       "<style scoped>\n",
       "    .dataframe tbody tr th:only-of-type {\n",
       "        vertical-align: middle;\n",
       "    }\n",
       "\n",
       "    .dataframe tbody tr th {\n",
       "        vertical-align: top;\n",
       "    }\n",
       "\n",
       "    .dataframe thead th {\n",
       "        text-align: right;\n",
       "    }\n",
       "</style>\n",
       "<table border=\"1\" class=\"dataframe\">\n",
       "  <thead>\n",
       "    <tr style=\"text-align: right;\">\n",
       "      <th></th>\n",
       "      <th>InvoiceNo</th>\n",
       "      <th>StockCode</th>\n",
       "      <th>Description</th>\n",
       "      <th>Quantity</th>\n",
       "      <th>InvoiceDate</th>\n",
       "      <th>UnitPrice</th>\n",
       "      <th>CustomerID</th>\n",
       "      <th>Country</th>\n",
       "      <th>Total_Price</th>\n",
       "    </tr>\n",
       "  </thead>\n",
       "  <tbody>\n",
       "    <tr>\n",
       "      <th>0</th>\n",
       "      <td>536365</td>\n",
       "      <td>85123A</td>\n",
       "      <td>WHITE HANGING HEART T-LIGHT HOLDER</td>\n",
       "      <td>6</td>\n",
       "      <td>2010/12/1 8:26</td>\n",
       "      <td>2.550000</td>\n",
       "      <td>17850.0</td>\n",
       "      <td>United Kingdom</td>\n",
       "      <td>15.300000</td>\n",
       "    </tr>\n",
       "    <tr>\n",
       "      <th>1</th>\n",
       "      <td>536365</td>\n",
       "      <td>71053</td>\n",
       "      <td>WHITE METAL LANTERN</td>\n",
       "      <td>6</td>\n",
       "      <td>2010/12/1 8:26</td>\n",
       "      <td>4.611117</td>\n",
       "      <td>17850.0</td>\n",
       "      <td>United Kingdom</td>\n",
       "      <td>27.666699</td>\n",
       "    </tr>\n",
       "    <tr>\n",
       "      <th>2</th>\n",
       "      <td>536365</td>\n",
       "      <td>84406B</td>\n",
       "      <td>NaN</td>\n",
       "      <td>8</td>\n",
       "      <td>2010/12/1 8:26</td>\n",
       "      <td>2.750000</td>\n",
       "      <td>17850.0</td>\n",
       "      <td>United Kingdom</td>\n",
       "      <td>22.000000</td>\n",
       "    </tr>\n",
       "    <tr>\n",
       "      <th>3</th>\n",
       "      <td>536365</td>\n",
       "      <td>84029G</td>\n",
       "      <td>KNITTED UNION FLAG HOT WATER BOTTLE</td>\n",
       "      <td>6</td>\n",
       "      <td>2010/12/1 8:26</td>\n",
       "      <td>3.390000</td>\n",
       "      <td>17850.0</td>\n",
       "      <td>United Kingdom</td>\n",
       "      <td>20.340000</td>\n",
       "    </tr>\n",
       "    <tr>\n",
       "      <th>4</th>\n",
       "      <td>536365</td>\n",
       "      <td>84029E</td>\n",
       "      <td>RED WOOLLY HOTTIE WHITE HEART.</td>\n",
       "      <td>6</td>\n",
       "      <td>2010/12/1 8:26</td>\n",
       "      <td>3.390000</td>\n",
       "      <td>17850.0</td>\n",
       "      <td>United Kingdom</td>\n",
       "      <td>20.340000</td>\n",
       "    </tr>\n",
       "  </tbody>\n",
       "</table>\n",
       "</div>"
      ],
      "text/plain": [
       "  InvoiceNo StockCode                          Description  Quantity  \\\n",
       "0    536365    85123A   WHITE HANGING HEART T-LIGHT HOLDER         6   \n",
       "1    536365     71053                  WHITE METAL LANTERN         6   \n",
       "2    536365    84406B                                  NaN         8   \n",
       "3    536365    84029G  KNITTED UNION FLAG HOT WATER BOTTLE         6   \n",
       "4    536365    84029E       RED WOOLLY HOTTIE WHITE HEART.         6   \n",
       "\n",
       "      InvoiceDate  UnitPrice  CustomerID         Country  Total_Price  \n",
       "0  2010/12/1 8:26   2.550000     17850.0  United Kingdom    15.300000  \n",
       "1  2010/12/1 8:26   4.611117     17850.0  United Kingdom    27.666699  \n",
       "2  2010/12/1 8:26   2.750000     17850.0  United Kingdom    22.000000  \n",
       "3  2010/12/1 8:26   3.390000     17850.0  United Kingdom    20.340000  \n",
       "4  2010/12/1 8:26   3.390000     17850.0  United Kingdom    20.340000  "
      ]
     },
     "execution_count": 9,
     "metadata": {},
     "output_type": "execute_result"
    }
   ],
   "source": [
    "data.head()"
   ]
  },
  {
   "cell_type": "markdown",
   "id": "34036c44",
   "metadata": {},
   "source": [
    "## 4.1.1\n",
    "    选择Series和DataFrame中的行"
   ]
  },
  {
   "cell_type": "code",
   "execution_count": 10,
   "id": "568aefd4",
   "metadata": {},
   "outputs": [],
   "source": [
    "Country = data['Country']"
   ]
  },
  {
   "cell_type": "code",
   "execution_count": 11,
   "id": "043b2e65",
   "metadata": {},
   "outputs": [
    {
     "data": {
      "text/plain": [
       "0    United Kingdom\n",
       "1    United Kingdom\n",
       "2    United Kingdom\n",
       "3    United Kingdom\n",
       "4    United Kingdom\n",
       "Name: Country, dtype: object"
      ]
     },
     "execution_count": 11,
     "metadata": {},
     "output_type": "execute_result"
    }
   ],
   "source": [
    "Country.head()"
   ]
  },
  {
   "cell_type": "code",
   "execution_count": 12,
   "id": "e0dc659c",
   "metadata": {},
   "outputs": [
    {
     "name": "stdout",
     "output_type": "stream",
     "text": [
      "United Kingdom\n",
      "United Kingdom\n",
      "France\n"
     ]
    }
   ],
   "source": [
    "# 上面是用[]操作符对data求Series列，如果要获取特定的几行，可以用.iloc[]\n",
    "print(Country.iloc[2])\n",
    "print(Country.iloc[4])\n",
    "print(Country.iloc[541908])"
   ]
  },
  {
   "cell_type": "code",
   "execution_count": 13,
   "id": "45de78da",
   "metadata": {},
   "outputs": [
    {
     "name": "stdout",
     "output_type": "stream",
     "text": [
      "1         United Kingdom\n",
      "2         United Kingdom\n",
      "3         United Kingdom\n",
      "541908            France\n",
      "Name: Country, dtype: object\n"
     ]
    }
   ],
   "source": [
    "# 如果想访问多行数据，可以给.iloc传入一个list列表\n",
    "print(Country.iloc[[1,2,3,541908]])"
   ]
  },
  {
   "cell_type": "code",
   "execution_count": 14,
   "id": "7af0283f",
   "metadata": {},
   "outputs": [
    {
     "name": "stdout",
     "output_type": "stream",
     "text": [
      "2         United Kingdom\n",
      "301       United Kingdom\n",
      "600       United Kingdom\n",
      "899       United Kingdom\n",
      "1198      United Kingdom\n",
      "               ...      \n",
      "540594    United Kingdom\n",
      "540893    United Kingdom\n",
      "541192           Belgium\n",
      "541491    United Kingdom\n",
      "541790           Germany\n",
      "Name: Country, Length: 1813, dtype: object\n"
     ]
    }
   ],
   "source": [
    "# 除了列表外，.iloc函数还支持切片操作\n",
    "print(Country.iloc[2:549900:299])"
   ]
  },
  {
   "cell_type": "code",
   "execution_count": 15,
   "id": "36727155",
   "metadata": {},
   "outputs": [],
   "source": [
    "# .iloc适用于index是数字型的索引，如果索引是其他类型的，比如下面这种情况的时候，我们可以用.loc来索引。\n",
    "college = pd.read_csv(data_source+\"\\\\College.csv\")"
   ]
  },
  {
   "cell_type": "code",
   "execution_count": 16,
   "id": "37ae5d22",
   "metadata": {},
   "outputs": [
    {
     "data": {
      "text/html": [
       "<div>\n",
       "<style scoped>\n",
       "    .dataframe tbody tr th:only-of-type {\n",
       "        vertical-align: middle;\n",
       "    }\n",
       "\n",
       "    .dataframe tbody tr th {\n",
       "        vertical-align: top;\n",
       "    }\n",
       "\n",
       "    .dataframe thead th {\n",
       "        text-align: right;\n",
       "    }\n",
       "</style>\n",
       "<table border=\"1\" class=\"dataframe\">\n",
       "  <thead>\n",
       "    <tr style=\"text-align: right;\">\n",
       "      <th></th>\n",
       "      <th>Unnamed: 0</th>\n",
       "      <th>Private</th>\n",
       "      <th>Apps</th>\n",
       "      <th>Accept</th>\n",
       "      <th>Enroll</th>\n",
       "      <th>...</th>\n",
       "      <th>Terminal</th>\n",
       "      <th>S.F.Ratio</th>\n",
       "      <th>perc.alumni</th>\n",
       "      <th>Expend</th>\n",
       "      <th>Grad.Rate</th>\n",
       "    </tr>\n",
       "  </thead>\n",
       "  <tbody>\n",
       "    <tr>\n",
       "      <th>0</th>\n",
       "      <td>Abilene Christian University</td>\n",
       "      <td>Yes</td>\n",
       "      <td>1660</td>\n",
       "      <td>1232</td>\n",
       "      <td>721</td>\n",
       "      <td>...</td>\n",
       "      <td>78</td>\n",
       "      <td>18.1</td>\n",
       "      <td>12</td>\n",
       "      <td>7041</td>\n",
       "      <td>60</td>\n",
       "    </tr>\n",
       "    <tr>\n",
       "      <th>1</th>\n",
       "      <td>Adelphi University</td>\n",
       "      <td>Yes</td>\n",
       "      <td>2186</td>\n",
       "      <td>1924</td>\n",
       "      <td>512</td>\n",
       "      <td>...</td>\n",
       "      <td>30</td>\n",
       "      <td>12.2</td>\n",
       "      <td>16</td>\n",
       "      <td>10527</td>\n",
       "      <td>56</td>\n",
       "    </tr>\n",
       "    <tr>\n",
       "      <th>2</th>\n",
       "      <td>Adrian College</td>\n",
       "      <td>Yes</td>\n",
       "      <td>1428</td>\n",
       "      <td>1097</td>\n",
       "      <td>336</td>\n",
       "      <td>...</td>\n",
       "      <td>66</td>\n",
       "      <td>12.9</td>\n",
       "      <td>30</td>\n",
       "      <td>8735</td>\n",
       "      <td>54</td>\n",
       "    </tr>\n",
       "    <tr>\n",
       "      <th>3</th>\n",
       "      <td>Agnes Scott College</td>\n",
       "      <td>Yes</td>\n",
       "      <td>417</td>\n",
       "      <td>349</td>\n",
       "      <td>137</td>\n",
       "      <td>...</td>\n",
       "      <td>97</td>\n",
       "      <td>7.7</td>\n",
       "      <td>37</td>\n",
       "      <td>19016</td>\n",
       "      <td>59</td>\n",
       "    </tr>\n",
       "    <tr>\n",
       "      <th>4</th>\n",
       "      <td>Alaska Pacific University</td>\n",
       "      <td>Yes</td>\n",
       "      <td>193</td>\n",
       "      <td>146</td>\n",
       "      <td>55</td>\n",
       "      <td>...</td>\n",
       "      <td>72</td>\n",
       "      <td>11.9</td>\n",
       "      <td>2</td>\n",
       "      <td>10922</td>\n",
       "      <td>15</td>\n",
       "    </tr>\n",
       "  </tbody>\n",
       "</table>\n",
       "<p>5 rows × 19 columns</p>\n",
       "</div>"
      ],
      "text/plain": [
       "                     Unnamed: 0 Private  Apps  Accept  Enroll  ...  Terminal  \\\n",
       "0  Abilene Christian University     Yes  1660    1232     721  ...        78   \n",
       "1            Adelphi University     Yes  2186    1924     512  ...        30   \n",
       "2                Adrian College     Yes  1428    1097     336  ...        66   \n",
       "3           Agnes Scott College     Yes   417     349     137  ...        97   \n",
       "4     Alaska Pacific University     Yes   193     146      55  ...        72   \n",
       "\n",
       "   S.F.Ratio  perc.alumni  Expend  Grad.Rate  \n",
       "0       18.1           12    7041         60  \n",
       "1       12.2           16   10527         56  \n",
       "2       12.9           30    8735         54  \n",
       "3        7.7           37   19016         59  \n",
       "4       11.9            2   10922         15  \n",
       "\n",
       "[5 rows x 19 columns]"
      ]
     },
     "execution_count": 16,
     "metadata": {},
     "output_type": "execute_result"
    }
   ],
   "source": [
    "college.head()"
   ]
  },
  {
   "cell_type": "code",
   "execution_count": 17,
   "id": "35f609f5",
   "metadata": {},
   "outputs": [],
   "source": [
    "college.set_index('Unnamed: 0',inplace=True)"
   ]
  },
  {
   "cell_type": "code",
   "execution_count": 18,
   "id": "b1ce1ca9",
   "metadata": {},
   "outputs": [],
   "source": [
    "col_name = {'Unnamed: 0':'college_name'}"
   ]
  },
  {
   "cell_type": "code",
   "execution_count": 19,
   "id": "d9162428",
   "metadata": {},
   "outputs": [],
   "source": [
    "college.rename(columns=col_name,inplace=True)"
   ]
  },
  {
   "cell_type": "code",
   "execution_count": 20,
   "id": "ffa701b8",
   "metadata": {},
   "outputs": [
    {
     "ename": "KeyError",
     "evalue": "\"None of ['college_name'] are in the columns\"",
     "output_type": "error",
     "traceback": [
      "\u001b[1;31m---------------------------------------------------------------------------\u001b[0m",
      "\u001b[1;31mKeyError\u001b[0m                                  Traceback (most recent call last)",
      "\u001b[1;32m<ipython-input-20-98fbabd617c1>\u001b[0m in \u001b[0;36m<module>\u001b[1;34m\u001b[0m\n\u001b[1;32m----> 1\u001b[1;33m \u001b[0mcollege\u001b[0m\u001b[1;33m.\u001b[0m\u001b[0mset_index\u001b[0m\u001b[1;33m(\u001b[0m\u001b[1;34m'college_name'\u001b[0m\u001b[1;33m,\u001b[0m\u001b[0minplace\u001b[0m\u001b[1;33m=\u001b[0m\u001b[1;32mTrue\u001b[0m\u001b[1;33m)\u001b[0m\u001b[1;33m\u001b[0m\u001b[1;33m\u001b[0m\u001b[0m\n\u001b[0m",
      "\u001b[1;32mF:\\Anaconda\\lib\\site-packages\\pandas\\core\\frame.py\u001b[0m in \u001b[0;36mset_index\u001b[1;34m(self, keys, drop, append, inplace, verify_integrity)\u001b[0m\n\u001b[0;32m   4725\u001b[0m \u001b[1;33m\u001b[0m\u001b[0m\n\u001b[0;32m   4726\u001b[0m         \u001b[1;32mif\u001b[0m \u001b[0mmissing\u001b[0m\u001b[1;33m:\u001b[0m\u001b[1;33m\u001b[0m\u001b[1;33m\u001b[0m\u001b[0m\n\u001b[1;32m-> 4727\u001b[1;33m             \u001b[1;32mraise\u001b[0m \u001b[0mKeyError\u001b[0m\u001b[1;33m(\u001b[0m\u001b[1;34mf\"None of {missing} are in the columns\"\u001b[0m\u001b[1;33m)\u001b[0m\u001b[1;33m\u001b[0m\u001b[1;33m\u001b[0m\u001b[0m\n\u001b[0m\u001b[0;32m   4728\u001b[0m \u001b[1;33m\u001b[0m\u001b[0m\n\u001b[0;32m   4729\u001b[0m         \u001b[1;32mif\u001b[0m \u001b[0minplace\u001b[0m\u001b[1;33m:\u001b[0m\u001b[1;33m\u001b[0m\u001b[1;33m\u001b[0m\u001b[0m\n",
      "\u001b[1;31mKeyError\u001b[0m: \"None of ['college_name'] are in the columns\""
     ]
    }
   ],
   "source": [
    "college.set_index('college_name',inplace=True)"
   ]
  },
  {
   "cell_type": "code",
   "execution_count": null,
   "id": "b4dfb7c7",
   "metadata": {},
   "outputs": [],
   "source": [
    "college"
   ]
  },
  {
   "cell_type": "code",
   "execution_count": null,
   "id": "a9895d7b",
   "metadata": {},
   "outputs": [],
   "source": [
    "college.head(20)"
   ]
  },
  {
   "cell_type": "code",
   "execution_count": null,
   "id": "23f835a3",
   "metadata": {},
   "outputs": [],
   "source": [
    "# 利用.loc进行索引，切片。\n",
    "college.loc['Abilene Christian University':'Angelo State University':2]"
   ]
  },
  {
   "cell_type": "markdown",
   "id": "23d53e33",
   "metadata": {},
   "source": [
    "# 4.1.2 同时选择行与列\n",
    "    利用类似下面的代码的方式，可以同时选择行和列\n",
    "          df.iloc[rows,columns]\n",
    "          df.loc[rows,columns]\n",
    "    其中，rows代表了行的选择，既可以是列表，也可以是数据切片的方式输入，colunms代表了列的选择。"
   ]
  },
  {
   "cell_type": "code",
   "execution_count": null,
   "id": "145718db",
   "metadata": {},
   "outputs": [],
   "source": [
    "college"
   ]
  },
  {
   "cell_type": "code",
   "execution_count": null,
   "id": "bf9d3178",
   "metadata": {},
   "outputs": [],
   "source": [
    "# 利用.loc选择行与列\n",
    "college.loc['Adelphi University':'Alaska Pacific University',              ##行\n",
    "            :'Enroll']                                                     ##列"
   ]
  },
  {
   "cell_type": "code",
   "execution_count": null,
   "id": "dd734aa8",
   "metadata": {},
   "outputs": [],
   "source": [
    "# 当然也可以用.iloc选择行与列\n",
    "college.iloc[1:4,:4]                                               # 与.loc形式完全相同\n"
   ]
  },
  {
   "cell_type": "markdown",
   "id": "93e3cf6f",
   "metadata": {},
   "source": [
    "## 4.2 布尔选择\n",
    "    上一节中已经学到了如何选择行列来筛选数据。但是一般还是更多的选择布尔选择方式来筛选数据。\n",
    "    基本思路：\n",
    "        通过对Pandas中的Series和DataFrame进行逻辑运算后得到一个新的Series或者DataFrame，其中的数据就是布尔类型，\n",
    "        利用布尔类型的数据来进行数据分析。"
   ]
  },
  {
   "cell_type": "code",
   "execution_count": null,
   "id": "e92dd82d",
   "metadata": {},
   "outputs": [],
   "source": [
    "# 引入数据\n",
    "cwur = pd.read_csv(data_source+\"\\\\cwurData.csv\")\n",
    "cwur.head(10)"
   ]
  },
  {
   "cell_type": "markdown",
   "id": "51e12f35",
   "metadata": {},
   "source": [
    "## 4.2.1 计算布尔值"
   ]
  },
  {
   "cell_type": "code",
   "execution_count": null,
   "id": "b1acabca",
   "metadata": {},
   "outputs": [],
   "source": [
    "# 选择那些score>85的学校，先创造出一列新的Series，内容是布尔型\n",
    "\n",
    "loc = cwur.columns.get_loc('score')  # 先用columns.get_loc获取列的位置\n",
    "\n",
    "cwur.insert(loc= loc+1,column='score_bool',value=cwur['score']>=85)   # 再用insert()函数插入数据"
   ]
  },
  {
   "cell_type": "code",
   "execution_count": null,
   "id": "8d4ff7fc",
   "metadata": {},
   "outputs": [],
   "source": [
    "cwur"
   ]
  },
  {
   "cell_type": "code",
   "execution_count": null,
   "id": "acc114a1",
   "metadata": {},
   "outputs": [],
   "source": [
    "# 求score>=85的学校的数目以及比例\n",
    "cwur['score_bool'].sum()\n",
    "# 利用mean还可以求出比例\n",
    "cwur['score_bool'].mean()            # True=1,False=0,所以mean()可以求出比例"
   ]
  },
  {
   "cell_type": "code",
   "execution_count": null,
   "id": "626a6ce3",
   "metadata": {},
   "outputs": [],
   "source": [
    "# 除了与一个值进行比较，还可以几列之间比较得出bool值\n",
    "cwur['bool_2'] = cwur[ 'quality_of_education']>cwur['alumni_employment']"
   ]
  },
  {
   "cell_type": "code",
   "execution_count": null,
   "id": "727bccb8",
   "metadata": {},
   "outputs": [],
   "source": [
    "cwur[['quality_of_education','alumni_employment']]"
   ]
  },
  {
   "cell_type": "code",
   "execution_count": null,
   "id": "cbc61918",
   "metadata": {},
   "outputs": [],
   "source": [
    "cwur"
   ]
  },
  {
   "cell_type": "code",
   "execution_count": null,
   "id": "d5473474",
   "metadata": {},
   "outputs": [],
   "source": [
    "# 对score>=85和cwur[ 'quality_of_education']>cwur['alumni_employment']同时满足  \n",
    "(cwur['score']>=85) & \\\n",
    "(cwur[ 'quality_of_education']>cwur['alumni_employment'])            # 要用()包起来否则会出错"
   ]
  },
  {
   "cell_type": "markdown",
   "id": "6ba8d1b4",
   "metadata": {},
   "source": [
    "##  4.2.2 多条件筛选数据"
   ]
  },
  {
   "cell_type": "code",
   "execution_count": null,
   "id": "9c07a85a",
   "metadata": {},
   "outputs": [],
   "source": [
    "## 利用多个条件做出bool_Series\n",
    "##　比如求出中国排名前100的大学\n",
    "crit_1 = cwur['country']=='China'\n",
    "crit_2 = cwur['world_rank']<=100\n",
    "\n",
    "cwur['China world\\'s rank before 100'] = crit_1 & crit_2\n",
    "cwur['China world\\'s rank before 100'].sum()\n",
    "\n",
    "cwur[cwur['China world\\'s rank before 100']]         # 利用bool值对DataFrame进行筛选"
   ]
  },
  {
   "cell_type": "markdown",
   "id": "a408198a",
   "metadata": {},
   "source": [
    "# ![按照index排序](数据按照index排序.jpg)"
   ]
  },
  {
   "cell_type": "code",
   "execution_count": 22,
   "id": "8205dac9",
   "metadata": {},
   "outputs": [],
   "source": [
    "sh = pd.read_csv(data_source+\"\\\\sh.csv\")"
   ]
  },
  {
   "cell_type": "code",
   "execution_count": 23,
   "id": "c7a93158",
   "metadata": {},
   "outputs": [
    {
     "data": {
      "text/html": [
       "<div>\n",
       "<style scoped>\n",
       "    .dataframe tbody tr th:only-of-type {\n",
       "        vertical-align: middle;\n",
       "    }\n",
       "\n",
       "    .dataframe tbody tr th {\n",
       "        vertical-align: top;\n",
       "    }\n",
       "\n",
       "    .dataframe thead th {\n",
       "        text-align: right;\n",
       "    }\n",
       "</style>\n",
       "<table border=\"1\" class=\"dataframe\">\n",
       "  <thead>\n",
       "    <tr style=\"text-align: right;\">\n",
       "      <th></th>\n",
       "      <th>date</th>\n",
       "      <th>open</th>\n",
       "      <th>high</th>\n",
       "      <th>close</th>\n",
       "      <th>low</th>\n",
       "      <th>volume</th>\n",
       "      <th>amount</th>\n",
       "    </tr>\n",
       "  </thead>\n",
       "  <tbody>\n",
       "    <tr>\n",
       "      <th>0</th>\n",
       "      <td>2019-08-30</td>\n",
       "      <td>2907.383</td>\n",
       "      <td>2914.577</td>\n",
       "      <td>2886.237</td>\n",
       "      <td>2874.103</td>\n",
       "      <td>19395995100</td>\n",
       "      <td>224751169931</td>\n",
       "    </tr>\n",
       "    <tr>\n",
       "      <th>1</th>\n",
       "      <td>2019-08-29</td>\n",
       "      <td>2895.999</td>\n",
       "      <td>2898.605</td>\n",
       "      <td>2890.919</td>\n",
       "      <td>2878.588</td>\n",
       "      <td>17861308200</td>\n",
       "      <td>196332770521</td>\n",
       "    </tr>\n",
       "    <tr>\n",
       "      <th>2</th>\n",
       "      <td>2019-08-28</td>\n",
       "      <td>2901.627</td>\n",
       "      <td>2905.435</td>\n",
       "      <td>2893.756</td>\n",
       "      <td>2887.012</td>\n",
       "      <td>18309790300</td>\n",
       "      <td>201805050637</td>\n",
       "    </tr>\n",
       "    <tr>\n",
       "      <th>3</th>\n",
       "      <td>2019-08-27</td>\n",
       "      <td>2879.515</td>\n",
       "      <td>2919.644</td>\n",
       "      <td>2902.193</td>\n",
       "      <td>2879.406</td>\n",
       "      <td>20814179400</td>\n",
       "      <td>230999692857</td>\n",
       "    </tr>\n",
       "    <tr>\n",
       "      <th>4</th>\n",
       "      <td>2019-08-26</td>\n",
       "      <td>2851.016</td>\n",
       "      <td>2870.494</td>\n",
       "      <td>2863.567</td>\n",
       "      <td>2849.238</td>\n",
       "      <td>16989536300</td>\n",
       "      <td>191036667851</td>\n",
       "    </tr>\n",
       "  </tbody>\n",
       "</table>\n",
       "</div>"
      ],
      "text/plain": [
       "         date      open      high     close       low       volume  \\\n",
       "0  2019-08-30  2907.383  2914.577  2886.237  2874.103  19395995100   \n",
       "1  2019-08-29  2895.999  2898.605  2890.919  2878.588  17861308200   \n",
       "2  2019-08-28  2901.627  2905.435  2893.756  2887.012  18309790300   \n",
       "3  2019-08-27  2879.515  2919.644  2902.193  2879.406  20814179400   \n",
       "4  2019-08-26  2851.016  2870.494  2863.567  2849.238  16989536300   \n",
       "\n",
       "         amount  \n",
       "0  224751169931  \n",
       "1  196332770521  \n",
       "2  201805050637  \n",
       "3  230999692857  \n",
       "4  191036667851  "
      ]
     },
     "execution_count": 23,
     "metadata": {},
     "output_type": "execute_result"
    }
   ],
   "source": [
    "sh.head()"
   ]
  },
  {
   "cell_type": "code",
   "execution_count": 30,
   "id": "46ac4898",
   "metadata": {},
   "outputs": [],
   "source": [
    "sh.set_index('date',inplace=True)"
   ]
  },
  {
   "cell_type": "code",
   "execution_count": 31,
   "id": "a8ed4604",
   "metadata": {},
   "outputs": [
    {
     "data": {
      "text/html": [
       "<div>\n",
       "<style scoped>\n",
       "    .dataframe tbody tr th:only-of-type {\n",
       "        vertical-align: middle;\n",
       "    }\n",
       "\n",
       "    .dataframe tbody tr th {\n",
       "        vertical-align: top;\n",
       "    }\n",
       "\n",
       "    .dataframe thead th {\n",
       "        text-align: right;\n",
       "    }\n",
       "</style>\n",
       "<table border=\"1\" class=\"dataframe\">\n",
       "  <thead>\n",
       "    <tr style=\"text-align: right;\">\n",
       "      <th></th>\n",
       "      <th>open</th>\n",
       "      <th>high</th>\n",
       "      <th>close</th>\n",
       "      <th>low</th>\n",
       "      <th>volume</th>\n",
       "      <th>amount</th>\n",
       "    </tr>\n",
       "    <tr>\n",
       "      <th>date</th>\n",
       "      <th></th>\n",
       "      <th></th>\n",
       "      <th></th>\n",
       "      <th></th>\n",
       "      <th></th>\n",
       "      <th></th>\n",
       "    </tr>\n",
       "  </thead>\n",
       "  <tbody>\n",
       "    <tr>\n",
       "      <th>2019-08-30</th>\n",
       "      <td>2907.383</td>\n",
       "      <td>2914.577</td>\n",
       "      <td>2886.237</td>\n",
       "      <td>2874.103</td>\n",
       "      <td>19395995100</td>\n",
       "      <td>224751169931</td>\n",
       "    </tr>\n",
       "    <tr>\n",
       "      <th>2019-08-29</th>\n",
       "      <td>2895.999</td>\n",
       "      <td>2898.605</td>\n",
       "      <td>2890.919</td>\n",
       "      <td>2878.588</td>\n",
       "      <td>17861308200</td>\n",
       "      <td>196332770521</td>\n",
       "    </tr>\n",
       "    <tr>\n",
       "      <th>2019-08-28</th>\n",
       "      <td>2901.627</td>\n",
       "      <td>2905.435</td>\n",
       "      <td>2893.756</td>\n",
       "      <td>2887.012</td>\n",
       "      <td>18309790300</td>\n",
       "      <td>201805050637</td>\n",
       "    </tr>\n",
       "    <tr>\n",
       "      <th>2019-08-27</th>\n",
       "      <td>2879.515</td>\n",
       "      <td>2919.644</td>\n",
       "      <td>2902.193</td>\n",
       "      <td>2879.406</td>\n",
       "      <td>20814179400</td>\n",
       "      <td>230999692857</td>\n",
       "    </tr>\n",
       "    <tr>\n",
       "      <th>2019-08-26</th>\n",
       "      <td>2851.016</td>\n",
       "      <td>2870.494</td>\n",
       "      <td>2863.567</td>\n",
       "      <td>2849.238</td>\n",
       "      <td>16989536300</td>\n",
       "      <td>191036667851</td>\n",
       "    </tr>\n",
       "  </tbody>\n",
       "</table>\n",
       "</div>"
      ],
      "text/plain": [
       "                open      high     close       low       volume        amount\n",
       "date                                                                         \n",
       "2019-08-30  2907.383  2914.577  2886.237  2874.103  19395995100  224751169931\n",
       "2019-08-29  2895.999  2898.605  2890.919  2878.588  17861308200  196332770521\n",
       "2019-08-28  2901.627  2905.435  2893.756  2887.012  18309790300  201805050637\n",
       "2019-08-27  2879.515  2919.644  2902.193  2879.406  20814179400  230999692857\n",
       "2019-08-26  2851.016  2870.494  2863.567  2849.238  16989536300  191036667851"
      ]
     },
     "execution_count": 31,
     "metadata": {},
     "output_type": "execute_result"
    }
   ],
   "source": [
    "sh.head()"
   ]
  },
  {
   "cell_type": "code",
   "execution_count": 32,
   "id": "f82c4dec",
   "metadata": {},
   "outputs": [],
   "source": [
    "sh.sort_index(inplace=True)"
   ]
  },
  {
   "cell_type": "code",
   "execution_count": 34,
   "id": "3622f423",
   "metadata": {},
   "outputs": [
    {
     "data": {
      "text/html": [
       "<div>\n",
       "<style scoped>\n",
       "    .dataframe tbody tr th:only-of-type {\n",
       "        vertical-align: middle;\n",
       "    }\n",
       "\n",
       "    .dataframe tbody tr th {\n",
       "        vertical-align: top;\n",
       "    }\n",
       "\n",
       "    .dataframe thead th {\n",
       "        text-align: right;\n",
       "    }\n",
       "</style>\n",
       "<table border=\"1\" class=\"dataframe\">\n",
       "  <thead>\n",
       "    <tr style=\"text-align: right;\">\n",
       "      <th></th>\n",
       "      <th>open</th>\n",
       "      <th>high</th>\n",
       "      <th>close</th>\n",
       "      <th>low</th>\n",
       "      <th>volume</th>\n",
       "      <th>amount</th>\n",
       "    </tr>\n",
       "    <tr>\n",
       "      <th>date</th>\n",
       "      <th></th>\n",
       "      <th></th>\n",
       "      <th></th>\n",
       "      <th></th>\n",
       "      <th></th>\n",
       "      <th></th>\n",
       "    </tr>\n",
       "  </thead>\n",
       "  <tbody>\n",
       "    <tr>\n",
       "      <th>2009-01-05</th>\n",
       "      <td>1849.020</td>\n",
       "      <td>1880.716</td>\n",
       "      <td>1880.716</td>\n",
       "      <td>1844.094</td>\n",
       "      <td>6713671200</td>\n",
       "      <td>46100959232</td>\n",
       "    </tr>\n",
       "    <tr>\n",
       "      <th>2009-01-06</th>\n",
       "      <td>1878.827</td>\n",
       "      <td>1938.690</td>\n",
       "      <td>1937.145</td>\n",
       "      <td>1871.971</td>\n",
       "      <td>9906675200</td>\n",
       "      <td>69012570112</td>\n",
       "    </tr>\n",
       "    <tr>\n",
       "      <th>2009-01-07</th>\n",
       "      <td>1938.974</td>\n",
       "      <td>1948.233</td>\n",
       "      <td>1924.012</td>\n",
       "      <td>1920.515</td>\n",
       "      <td>9236008800</td>\n",
       "      <td>63931166720</td>\n",
       "    </tr>\n",
       "    <tr>\n",
       "      <th>2009-01-08</th>\n",
       "      <td>1890.242</td>\n",
       "      <td>1894.171</td>\n",
       "      <td>1878.181</td>\n",
       "      <td>1862.263</td>\n",
       "      <td>8037400000</td>\n",
       "      <td>55076814848</td>\n",
       "    </tr>\n",
       "    <tr>\n",
       "      <th>2009-01-09</th>\n",
       "      <td>1875.164</td>\n",
       "      <td>1909.349</td>\n",
       "      <td>1904.861</td>\n",
       "      <td>1875.164</td>\n",
       "      <td>7122477600</td>\n",
       "      <td>50131263488</td>\n",
       "    </tr>\n",
       "  </tbody>\n",
       "</table>\n",
       "</div>"
      ],
      "text/plain": [
       "                open      high     close       low      volume       amount\n",
       "date                                                                       \n",
       "2009-01-05  1849.020  1880.716  1880.716  1844.094  6713671200  46100959232\n",
       "2009-01-06  1878.827  1938.690  1937.145  1871.971  9906675200  69012570112\n",
       "2009-01-07  1938.974  1948.233  1924.012  1920.515  9236008800  63931166720\n",
       "2009-01-08  1890.242  1894.171  1878.181  1862.263  8037400000  55076814848\n",
       "2009-01-09  1875.164  1909.349  1904.861  1875.164  7122477600  50131263488"
      ]
     },
     "execution_count": 34,
     "metadata": {},
     "output_type": "execute_result"
    }
   ],
   "source": [
    "sh.head()"
   ]
  },
  {
   "cell_type": "code",
   "execution_count": null,
   "id": "f16629cc",
   "metadata": {},
   "outputs": [],
   "source": []
  }
 ],
 "metadata": {
  "kernelspec": {
   "display_name": "Python 3",
   "language": "python",
   "name": "python3"
  },
  "language_info": {
   "codemirror_mode": {
    "name": "ipython",
    "version": 3
   },
   "file_extension": ".py",
   "mimetype": "text/x-python",
   "name": "python",
   "nbconvert_exporter": "python",
   "pygments_lexer": "ipython3",
   "version": "3.8.8"
  }
 },
 "nbformat": 4,
 "nbformat_minor": 5
}
