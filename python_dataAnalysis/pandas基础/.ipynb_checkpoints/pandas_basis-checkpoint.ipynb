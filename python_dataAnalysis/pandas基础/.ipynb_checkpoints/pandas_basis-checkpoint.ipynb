{
 "cells": [
  {
   "cell_type": "markdown",
   "id": "b2ac6ba3",
   "metadata": {},
   "source": [
    "# Pandas 基础\n",
    "1. 如何理解dataframe的基本要素\n",
    "2. DataFrame的数据结构\n",
    "3. 什么是series,针对Series的链式方法\n",
    "4. 对DataFrame的列名，行名，索引进行修改"
   ]
  },
  {
   "cell_type": "markdown",
   "id": "f153ea80",
   "metadata": {},
   "source": [
    "### 什么是DataFrame"
   ]
  },
  {
   "cell_type": "markdown",
   "id": "7ea0cb25",
   "metadata": {},
   "source": [
    " Pandas中有两种基础数据结构，Series和DataFrame.Series是一种类似于一维数组的对象，由一组数据和一组与之相关的数据标签（即索引）组成。\n",
    "\n"
   ]
  },
  {
   "cell_type": "markdown",
   "id": "52a175c1",
   "metadata": {},
   "source": [
    " DataFrame既有行索引，又有列索引，可以看做是由Series组成的字典。"
   ]
  },
  {
   "cell_type": "code",
   "execution_count": 10,
   "id": "464ee772",
   "metadata": {},
   "outputs": [],
   "source": [
    "# 导入Pandas包\n",
    "import pandas as pd\n",
    "# 设置Notebook中最多显示多少行，超出部分用省略号代替\n",
    "pd.set_option('display.max_colwidth',7)\n",
    "pd.set_option('display.max_rows',6)"
   ]
  },
  {
   "cell_type": "code",
   "execution_count": null,
   "id": "ce16eb1e",
   "metadata": {},
   "outputs": [],
   "source": [
    "pd.re"
   ]
  }
 ],
 "metadata": {
  "kernelspec": {
   "display_name": "Python 3",
   "language": "python",
   "name": "python3"
  },
  "language_info": {
   "codemirror_mode": {
    "name": "ipython",
    "version": 3
   },
   "file_extension": ".py",
   "mimetype": "text/x-python",
   "name": "python",
   "nbconvert_exporter": "python",
   "pygments_lexer": "ipython3",
   "version": "3.8.8"
  }
 },
 "nbformat": 4,
 "nbformat_minor": 5
}
